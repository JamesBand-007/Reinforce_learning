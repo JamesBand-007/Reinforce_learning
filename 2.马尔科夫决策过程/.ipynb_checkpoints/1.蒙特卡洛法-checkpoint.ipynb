{
 "cells": [
  {
   "cell_type": "code",
   "execution_count": 10,
   "id": "313d9029",
   "metadata": {},
   "outputs": [
    {
     "name": "stdout",
     "output_type": "stream",
     "text": [
      "3.44\n"
     ]
    }
   ],
   "source": [
    "import numpy as np\n",
    "import random\n",
    "\n",
    "# 蒙特卡洛法计算圆周率Π\n",
    "\n",
    "def calpai():\n",
    "    # 采样总数\n",
    "    n = 1000\n",
    "    count = 0\n",
    "    for _ in range(n):\n",
    "        \n",
    "        x = random.uniform(0,1)\n",
    "        y = random.uniform(0,1)\n",
    "        if x**2 + y**2 < 1.0:\n",
    "            count += 1\n",
    "        \n",
    "    print(count/float(n) * 4)\n",
    "\n",
    "calpai()"
   ]
  },
  {
   "cell_type": "code",
   "execution_count": 14,
   "id": "cff4cd28",
   "metadata": {},
   "outputs": [
    {
     "name": "stdout",
     "output_type": "stream",
     "text": [
      "0.7487498320024876 0.7827875120450624\n",
      "0.0\n"
     ]
    }
   ],
   "source": [
    "# 蒙特卡洛法求定积分\n",
    "def calJifen():\n",
    "    # 采样总数\n",
    "    n = 1000\n",
    "    count = 0\n",
    "    for _ in range(n):\n",
    "        \n",
    "        x = random.uniform(0,1)\n",
    "        y = random.uniform(0,1)\n",
    "        # print(x,y)\n",
    "        if x**2 > y:\n",
    "            count += 1\n",
    "            \n",
    "    print(count/float(n))\n",
    "    \n",
    "calJifen()"
   ]
  },
  {
   "cell_type": "code",
   "execution_count": null,
   "id": "e1ec4492",
   "metadata": {},
   "outputs": [],
   "source": [
    "# 蒙特卡洛法求定积分--均值方法\n",
    "def calJifen_mean():\n",
    "    # 采样总数\n",
    "    n = 1000\n",
    "    count = 0\n",
    "    for _ in range(n):\n",
    "        \n",
    "        x = random.uniform(0,1)\n",
    "        print(x,y)\n",
    "        count += x**2\n",
    "            \n",
    "    print(count/float(n))\n",
    "    \n",
    "calJifen_mean()"
   ]
  },
  {
   "cell_type": "code",
   "execution_count": null,
   "id": "8161754b",
   "metadata": {},
   "outputs": [],
   "source": []
  },
  {
   "cell_type": "code",
   "execution_count": null,
   "id": "0759ad9d",
   "metadata": {},
   "outputs": [],
   "source": []
  },
  {
   "cell_type": "code",
   "execution_count": null,
   "id": "17ae78ec",
   "metadata": {},
   "outputs": [],
   "source": []
  }
 ],
 "metadata": {
  "kernelspec": {
   "display_name": "llama_factory",
   "language": "python",
   "name": "llama_factory"
  },
  "language_info": {
   "codemirror_mode": {
    "name": "ipython",
    "version": 3
   },
   "file_extension": ".py",
   "mimetype": "text/x-python",
   "name": "python",
   "nbconvert_exporter": "python",
   "pygments_lexer": "ipython3",
   "version": "3.10.14"
  }
 },
 "nbformat": 4,
 "nbformat_minor": 5
}
