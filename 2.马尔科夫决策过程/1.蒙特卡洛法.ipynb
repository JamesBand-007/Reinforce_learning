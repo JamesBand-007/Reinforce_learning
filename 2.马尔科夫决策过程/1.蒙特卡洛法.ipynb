{
 "cells": [
  {
   "cell_type": "code",
   "execution_count": 10,
   "id": "3b274d69",
   "metadata": {},
   "outputs": [
    {
     "name": "stdout",
     "output_type": "stream",
     "text": [
      "3.44\n"
     ]
    }
   ],
   "source": [
    "import numpy as np\n",
    "import random\n",
    "\n",
    "# 蒙特卡洛法计算圆周率Π\n",
    "\n",
    "def calpai():\n",
    "    # 采样总数\n",
    "    n = 1000\n",
    "    count = 0\n",
    "    for _ in range(n):\n",
    "        \n",
    "        x = random.uniform(0,1)\n",
    "        y = random.uniform(0,1)\n",
    "        if x**2 + y**2 < 1.0:\n",
    "            count += 1\n",
    "        \n",
    "    print(count/float(n) * 4)\n",
    "\n",
    "calpai()"
   ]
  },
  {
   "cell_type": "code",
   "execution_count": 19,
   "id": "e3bade61",
   "metadata": {},
   "outputs": [
    {
     "name": "stdout",
     "output_type": "stream",
     "text": [
      "0.33418\n"
     ]
    }
   ],
   "source": [
    "# 蒙特卡洛法求定积分\n",
    "def calJifen():\n",
    "    # 采样总数\n",
    "    n = 100000\n",
    "    count = 0\n",
    "    for _ in range(n):\n",
    "        \n",
    "        x = random.uniform(0,1)\n",
    "        y = random.uniform(0,1)\n",
    "        # print(x,y)\n",
    "        if x**2 > y:\n",
    "            count += 1\n",
    "            \n",
    "    print(count/float(n))\n",
    "    \n",
    "calJifen()"
   ]
  },
  {
   "cell_type": "code",
   "execution_count": 20,
   "id": "aa9f5962",
   "metadata": {},
   "outputs": [
    {
     "name": "stdout",
     "output_type": "stream",
     "text": [
      "0.33244176121217395\n"
     ]
    }
   ],
   "source": [
    "# 蒙特卡洛法求定积分--均值方法\n",
    "def calJifen_mean():\n",
    "    # 采样总数\n",
    "    n = 100000\n",
    "    count = 0\n",
    "    for _ in range(n):\n",
    "        \n",
    "        x = random.uniform(0,1)\n",
    "        count += x**2\n",
    "            \n",
    "    print(count/float(n))\n",
    "    \n",
    "calJifen_mean()"
   ]
  },
  {
   "cell_type": "code",
   "execution_count": null,
   "id": "f2c9e6cc",
   "metadata": {},
   "outputs": [],
   "source": [
    " import numpy as np\n",
    "    "
   ]
  },
  {
   "cell_type": "code",
   "execution_count": null,
   "id": "08f3f4af",
   "metadata": {},
   "outputs": [],
   "source": []
  },
  {
   "cell_type": "code",
   "execution_count": null,
   "id": "a57cd7f0",
   "metadata": {},
   "outputs": [],
   "source": []
  }
 ],
 "metadata": {
  "kernelspec": {
   "display_name": "llama_factory",
   "language": "python",
   "name": "llama_factory"
  },
  "language_info": {
   "codemirror_mode": {
    "name": "ipython",
    "version": 3
   },
   "file_extension": ".py",
   "mimetype": "text/x-python",
   "name": "python",
   "nbconvert_exporter": "python",
   "pygments_lexer": "ipython3",
   "version": "3.10.14"
  }
 },
 "nbformat": 4,
 "nbformat_minor": 5
}
