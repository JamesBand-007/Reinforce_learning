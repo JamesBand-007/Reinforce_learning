{
 "cells": [
  {
   "cell_type": "code",
   "execution_count": 1,
   "id": "78f31e8f",
   "metadata": {},
   "outputs": [
    {
     "data": {
      "text/plain": [
       "(array([0.17105535, 0.62318649, 0.23041246, 0.74398898, 0.57471585,\n",
       "        0.66594918, 0.572156  , 0.14611697, 0.39278998, 0.96404523]),\n",
       " [[1], [1], [1], [1], [1], [1], [1], [1], [1], [1]])"
      ]
     },
     "execution_count": 1,
     "metadata": {},
     "output_type": "execute_result"
    }
   ],
   "source": [
    "import numpy as np\n",
    "\n",
    "#每个老虎机的中奖概率,0-1之间的均匀分布\n",
    "# probs = np.random.uniform(size=10)\n",
    "probs = np.array([0.17105535, 0.62318649, 0.23041246, 0.74398898, 0.57471585,\n",
    "        0.66594918, 0.572156  , 0.14611697, 0.39278998, 0.96404523])\n",
    "\n",
    "#记录每个老虎机的返回值\n",
    "rewards = [[1] for _ in range(10)]\n",
    "\n",
    "probs, rewards"
   ]
  },
  {
   "cell_type": "code",
   "execution_count": 2,
   "id": "e911eeeb",
   "metadata": {},
   "outputs": [],
   "source": [
    "import random\n",
    "\n",
    "\n",
    "#随机选择的概率递减的贪婪算法\n",
    "def choose_one():\n",
    "    #求出现在已经玩了多少次 , 实际应减去10\n",
    "    played_count = sum([len(i) for i in rewards])\n",
    "    # print(played_count)\n",
    "\n",
    "    #随机选择的概率逐渐下降\n",
    "    if random.random() < 1 / played_count:\n",
    "        return random.randint(0, 9)\n",
    "\n",
    "    #计算每个老虎机的奖励平均\n",
    "    rewards_mean = [np.mean(i) for i in rewards]\n",
    "\n",
    "    #选择期望奖励估值最大的拉杆\n",
    "    return np.argmax(rewards_mean)\n",
    "\n",
    "\n",
    "# choose_one()"
   ]
  },
  {
   "cell_type": "code",
   "execution_count": 3,
   "id": "03e38e13",
   "metadata": {},
   "outputs": [],
   "source": [
    "def try_and_play():\n",
    "    i = choose_one()\n",
    "\n",
    "    #玩老虎机,得到结果\n",
    "    reward = 0\n",
    "    if random.random() < probs[i]:\n",
    "        reward = 1\n",
    "\n",
    "    #记录玩的结果\n",
    "    rewards[i].append(reward)\n",
    "\n",
    "\n",
    "# try_and_play()\n",
    "\n",
    "# rewards"
   ]
  },
  {
   "cell_type": "code",
   "execution_count": 4,
   "id": "8b229dc4",
   "metadata": {},
   "outputs": [
    {
     "data": {
      "text/plain": [
       "(4820.2261499999995, 4807)"
      ]
     },
     "execution_count": 4,
     "metadata": {},
     "output_type": "execute_result"
    }
   ],
   "source": [
    "def get_result():\n",
    "    #玩N次\n",
    "    for _ in range(5000):\n",
    "        try_and_play()\n",
    "\n",
    "    #期望的最好结果\n",
    "    target = probs.max() * 5000\n",
    "\n",
    "    #实际玩出的结果\n",
    "    result = sum([sum(i) for i in rewards]) - 10\n",
    "\n",
    "    return target, result\n",
    "\n",
    "\n",
    "get_result()"
   ]
  },
  {
   "cell_type": "code",
   "execution_count": null,
   "id": "6e17c96c",
   "metadata": {},
   "outputs": [],
   "source": []
  }
 ],
 "metadata": {
  "kernelspec": {
   "display_name": "llama_factory",
   "language": "python",
   "name": "llama_factory"
  },
  "language_info": {
   "codemirror_mode": {
    "name": "ipython",
    "version": 3
   },
   "file_extension": ".py",
   "mimetype": "text/x-python",
   "name": "python",
   "nbconvert_exporter": "python",
   "pygments_lexer": "ipython3",
   "version": "3.10.14"
  }
 },
 "nbformat": 4,
 "nbformat_minor": 5
}
