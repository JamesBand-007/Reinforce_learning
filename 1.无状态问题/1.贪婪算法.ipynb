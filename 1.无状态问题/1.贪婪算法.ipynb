{
 "cells": [
  {
   "cell_type": "code",
   "execution_count": 9,
   "id": "1324c258",
   "metadata": {},
   "outputs": [
    {
     "data": {
      "text/plain": [
       "(array([0.17105535, 0.62318649, 0.23041246, 0.74398898, 0.57471585,\n",
       "        0.66594918, 0.572156  , 0.14611697, 0.39278998, 0.96404523]),\n",
       " [[1], [1], [1], [1], [1], [1], [1], [1], [1], [1]])"
      ]
     },
     "execution_count": 9,
     "metadata": {},
     "output_type": "execute_result"
    }
   ],
   "source": [
    "import numpy as np\n",
    "# 每个老虎机的中奖概率\n",
    "# probs = np.random.uniform(size=10)\n",
    "probs = np.array([0.17105535, 0.62318649, 0.23041246, 0.74398898, 0.57471585,\n",
    "        0.66594918, 0.572156  , 0.14611697, 0.39278998, 0.96404523])\n",
    "\n",
    "# 记录每个老虎机的返回值\n",
    "rewards = [[1] for _ in range(10)]\n",
    "\n",
    "probs, rewards"
   ]
  },
  {
   "cell_type": "code",
   "execution_count": 10,
   "id": "b43f4e26",
   "metadata": {},
   "outputs": [],
   "source": [
    "import random\n",
    "\n",
    "# 贪婪算法\n",
    "def choose_one():\n",
    "    \n",
    "    # 小概率随机探索\n",
    "    if random.random() < 0.01:\n",
    "        return random.randint(0, 9)\n",
    "    \n",
    "    # 计算每个老虎机的平均奖励\n",
    "    rewards_mean = [np.mean(i) for i in rewards]\n",
    "    \n",
    "    # 选择期望奖励最大的老虎机\n",
    "    return np.argmax(rewards_mean)\n",
    "\n",
    "# choose_one()"
   ]
  },
  {
   "cell_type": "code",
   "execution_count": 11,
   "id": "94536407",
   "metadata": {},
   "outputs": [],
   "source": [
    "def try_and_play():\n",
    "    \n",
    "    i = choose_one()\n",
    "    \n",
    "    # 试玩，并初始化奖励值\n",
    "    reward = 0\n",
    "    if random.random() < probs[i]:\n",
    "        reward = 1\n",
    "    \n",
    "    # 记录玩的结果\n",
    "    rewards[i].append(reward)\n",
    "\n",
    "# try_and_play()\n",
    "\n",
    "# rewards    \n",
    "    "
   ]
  },
  {
   "cell_type": "code",
   "execution_count": 12,
   "id": "614aa46d",
   "metadata": {},
   "outputs": [
    {
     "data": {
      "text/plain": [
       "(4820.2261499999995, 4778)"
      ]
     },
     "execution_count": 12,
     "metadata": {},
     "output_type": "execute_result"
    }
   ],
   "source": [
    "def get_result():\n",
    "    # 试玩N次\n",
    "    for _ in range(5000):\n",
    "        try_and_play()\n",
    "        \n",
    "    # 最好结果\n",
    "    target = probs.max() * 5000\n",
    "    \n",
    "    # 实际结果\n",
    "    result = sum([sum(i) for i in rewards]) - 10\n",
    "    \n",
    "    return target, result\n",
    "\n",
    "get_result()"
   ]
  },
  {
   "cell_type": "code",
   "execution_count": null,
   "id": "02ff2a40",
   "metadata": {},
   "outputs": [],
   "source": []
  }
 ],
 "metadata": {
  "kernelspec": {
   "display_name": "llama_factory",
   "language": "python",
   "name": "llama_factory"
  },
  "language_info": {
   "codemirror_mode": {
    "name": "ipython",
    "version": 3
   },
   "file_extension": ".py",
   "mimetype": "text/x-python",
   "name": "python",
   "nbconvert_exporter": "python",
   "pygments_lexer": "ipython3",
   "version": "3.10.14"
  }
 },
 "nbformat": 4,
 "nbformat_minor": 5
}
