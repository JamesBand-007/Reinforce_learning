{
 "cells": [
  {
   "cell_type": "code",
   "execution_count": 34,
   "id": "f93e0094",
   "metadata": {},
   "outputs": [
    {
     "data": {
      "text/plain": [
       "(array([0.17105535, 0.62318649, 0.23041246, 0.74398898, 0.57471585,\n",
       "        0.66594918, 0.572156  , 0.14611697, 0.39278998, 0.96404523]),\n",
       " [[1], [1], [1], [1], [1], [1], [1], [1], [1], [1]])"
      ]
     },
     "execution_count": 34,
     "metadata": {},
     "output_type": "execute_result"
    }
   ],
   "source": [
    "import numpy as np\n",
    "\n",
    "# 初始化获胜概率\n",
    "# probs = np.random.uniform(size=10)\n",
    "probs = np.array([0.17105535, 0.62318649, 0.23041246, 0.74398898, 0.57471585,\n",
    "        0.66594918, 0.572156  , 0.14611697, 0.39278998, 0.96404523])\n",
    "\n",
    "# 初始化获胜次数\n",
    "rewards = [[1] for _ in range(10)]\n",
    "\n",
    "probs, rewards"
   ]
  },
  {
   "cell_type": "code",
   "execution_count": 35,
   "id": "7f6ee1ad",
   "metadata": {},
   "outputs": [],
   "source": [
    "import random\n",
    "\n",
    "def choose_one():\n",
    "    # 计算每个老虎机的平均奖励\n",
    "    rewards_mean = [np.mean(i) for i in rewards]\n",
    "    \n",
    "    # 选择期望奖励最大的老虎机\n",
    "    return np.argmax(rewards_mean)\n"
   ]
  },
  {
   "cell_type": "code",
   "execution_count": 36,
   "id": "efaadb20",
   "metadata": {},
   "outputs": [],
   "source": [
    "def try_and_play():\n",
    "    i = choose_one()\n",
    "    \n",
    "    # 试玩，并初始化奖励值\n",
    "    reward = 0\n",
    "    if random.random() < probs[i]:\n",
    "        reward = 1\n",
    "    \n",
    "    # 记录玩的结果\n",
    "    rewards[i].append(reward)"
   ]
  },
  {
   "cell_type": "code",
   "execution_count": 37,
   "id": "6ab5becc",
   "metadata": {},
   "outputs": [
    {
     "data": {
      "text/plain": [
       "(4820.2261499999995, 854)"
      ]
     },
     "execution_count": 37,
     "metadata": {},
     "output_type": "execute_result"
    }
   ],
   "source": [
    "def get_result():\n",
    "    #玩N次\n",
    "    for _ in range(5000):\n",
    "        try_and_play()\n",
    "\n",
    "    #期望的最好结果\n",
    "    target = probs.max() * 5000\n",
    "\n",
    "    #实际玩出的结果\n",
    "    result = sum([sum(i) for i in rewards]) - 10\n",
    "\n",
    "    return target, result\n",
    "\n",
    "\n",
    "get_result()"
   ]
  },
  {
   "cell_type": "code",
   "execution_count": null,
   "id": "06c13167",
   "metadata": {},
   "outputs": [],
   "source": []
  }
 ],
 "metadata": {
  "kernelspec": {
   "display_name": "llama_factory",
   "language": "python",
   "name": "llama_factory"
  },
  "language_info": {
   "codemirror_mode": {
    "name": "ipython",
    "version": 3
   },
   "file_extension": ".py",
   "mimetype": "text/x-python",
   "name": "python",
   "nbconvert_exporter": "python",
   "pygments_lexer": "ipython3",
   "version": "3.10.14"
  }
 },
 "nbformat": 4,
 "nbformat_minor": 5
}
