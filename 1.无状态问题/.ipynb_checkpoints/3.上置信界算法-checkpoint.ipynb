{
 "cells": [
  {
   "cell_type": "code",
   "execution_count": 18,
   "id": "c77aad22",
   "metadata": {},
   "outputs": [
    {
     "data": {
      "text/plain": [
       "(array([0.02094941, 0.36682237, 0.26654376, 0.47818874, 0.65039653,\n",
       "        0.91609149, 0.70160111, 0.47052961, 0.49642871, 0.90891061]),\n",
       " [[10], [10], [10], [10], [10], [10], [10], [10], [10], [10]])"
      ]
     },
     "execution_count": 18,
     "metadata": {},
     "output_type": "execute_result"
    }
   ],
   "source": [
    "import numpy as np\n",
    "\n",
    "# 初始化每台机器的中奖概率\n",
    "probs = np.random.uniform(size=10)\n",
    "\n",
    "# 记录结果\n",
    "rewards = [[10] for _ in range(10)]\n",
    "\n",
    "probs,rewards"
   ]
  },
  {
   "cell_type": "code",
   "execution_count": 19,
   "id": "74ac422b",
   "metadata": {},
   "outputs": [],
   "source": [
    "import random\n",
    "\n",
    "# 随机探索的概率递减策略\n",
    "# 上置信界算法\n",
    "# 被探索次数少的机器有更大概率被选中\n",
    "def choose_one():\n",
    "    # 求出每个老虎机各玩了多少次\n",
    "    played_count = [len(i) for i in rewards]\n",
    "    played_count = np.array(played_count)\n",
    "    \n",
    "    #求出上置信界\n",
    "    #分子是总共玩了多少次,取根号后让他的增长速度变慢\n",
    "    #分母是每台老虎机玩的次数,乘以2让他的增长速度变快\n",
    "    #随着玩的次数增加,分母会很快超过分子的增长速度,导致分数越来越小\n",
    "    #具体到每一台老虎机,则是玩的次数越多,分数就越小,也就是ucb的加权越小\n",
    "    #所以ucb衡量了每一台老虎机的不确定性,不确定性越大,探索的价值越大\n",
    "    fenzi = played_count.sum()**0.5\n",
    "    fenmu = played_count*2\n",
    "    ucb = fenzi/fenmu\n",
    "    \n",
    "    #ucb本身取根号\n",
    "    #大于1的数会被缩小,小于1的数会被放大,这样保持ucb恒定在一定的数值范围内\n",
    "    ucb = ucb**0.5\n",
    "    \n",
    "    #计算每个老虎机的奖励平均\n",
    "    rewards_mean = [np.mean(i) for i in rewards]\n",
    "    rewards_mean = np.array(rewards_mean)\n",
    "    \n",
    "    #ucb和期望求和\n",
    "    ucb += rewards_mean\n",
    "    \n",
    "    return ucb.argmax()\n",
    "\n",
    "\n",
    "    "
   ]
  },
  {
   "cell_type": "code",
   "execution_count": 20,
   "id": "6211d433",
   "metadata": {},
   "outputs": [],
   "source": [
    "def try_and_play():\n",
    "    i = choose_one()\n",
    "\n",
    "    #玩老虎机,得到结果\n",
    "    reward = 0\n",
    "    if random.random() < probs[i]:\n",
    "        reward = 1\n",
    "\n",
    "    #记录玩的结果\n",
    "    rewards[i].append(reward)"
   ]
  },
  {
   "cell_type": "code",
   "execution_count": 21,
   "id": "ead97fb1",
   "metadata": {},
   "outputs": [
    {
     "data": {
      "text/plain": [
       "(4580.457455254837, 4192)"
      ]
     },
     "execution_count": 21,
     "metadata": {},
     "output_type": "execute_result"
    }
   ],
   "source": [
    "def get_result():\n",
    "    #玩N次\n",
    "    for _ in range(5000):\n",
    "        try_and_play()\n",
    "\n",
    "    #期望的最好结果\n",
    "    target = probs.max() * 5000\n",
    "\n",
    "    #实际玩出的结果\n",
    "    result = sum([sum(i) for i in rewards]) - 10\n",
    "\n",
    "    return target, result\n",
    "\n",
    "\n",
    "get_result()"
   ]
  },
  {
   "cell_type": "code",
   "execution_count": null,
   "id": "0a4fb73f",
   "metadata": {},
   "outputs": [],
   "source": []
  }
 ],
 "metadata": {
  "kernelspec": {
   "display_name": "llama_factory",
   "language": "python",
   "name": "llama_factory"
  },
  "language_info": {
   "codemirror_mode": {
    "name": "ipython",
    "version": 3
   },
   "file_extension": ".py",
   "mimetype": "text/x-python",
   "name": "python",
   "nbconvert_exporter": "python",
   "pygments_lexer": "ipython3",
   "version": "3.10.14"
  }
 },
 "nbformat": 4,
 "nbformat_minor": 5
}
