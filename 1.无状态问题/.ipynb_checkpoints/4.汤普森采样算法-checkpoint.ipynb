{
 "cells": [
  {
   "cell_type": "code",
   "execution_count": null,
   "id": "f484ffe3",
   "metadata": {},
   "outputs": [],
   "source": [
    "import numpy as np\n",
    "\n",
    "#每个老虎机的中奖概率,0-1之间的均匀分布\n",
    "probs = np.random.uniform(size=10)\n",
    "\n",
    "#记录每个老虎机的返回值\n",
    "rewards = [[1] for _ in range(10)]\n",
    "\n",
    "probs, rewards"
   ]
  },
  {
   "cell_type": "code",
   "execution_count": null,
   "id": "368ed33f",
   "metadata": {},
   "outputs": [],
   "source": [
    "#beta分布测试\n",
    "print('当数字小的时候,beta分布的概率有很大的随机性')\n",
    "for _ in range(5):\n",
    "    print(np.random.beta(1,1))\n",
    "print('当数字大时,beta分布逐渐稳定')  \n",
    "for _ in range(5):\n",
    "    print(np.random.beta(1e5, 1e5))\n"
   ]
  },
  {
   "cell_type": "code",
   "execution_count": null,
   "id": "7d33d368",
   "metadata": {},
   "outputs": [],
   "source": [
    "import random\n",
    "\n",
    "\n",
    "def choose_one():\n",
    "    #求出每个老虎机出1的次数+1\n",
    "    count_1 = [sum(i) for i in rewards]\n",
    "\n",
    "    #求出每个老虎机出0的次数+1\n",
    "    count_0 = [len(i) - sum(i) + 2 for i in rewards]\n",
    "\n",
    "    #按照beta分布计算奖励分布,这可以认为是每一台老虎机中奖的概率\n",
    "    beta = np.random.beta(count_1, count_0)\n",
    "\n",
    "    return beta.argmax()"
   ]
  },
  {
   "cell_type": "code",
   "execution_count": null,
   "id": "93b4d297",
   "metadata": {},
   "outputs": [],
   "source": [
    "def try_and_play():\n",
    "    i = choose_one()\n",
    "\n",
    "    #玩老虎机,得到结果\n",
    "    reward = 0\n",
    "    if random.random() < probs[i]:\n",
    "        reward = 1\n",
    "\n",
    "    #记录玩的结果\n",
    "    rewards[i].append(reward)\n",
    "\n"
   ]
  },
  {
   "cell_type": "code",
   "execution_count": null,
   "id": "cf428743",
   "metadata": {},
   "outputs": [],
   "source": [
    "def get_result():\n",
    "    #玩N次\n",
    "    for _ in range(5000):\n",
    "        try_and_play()\n",
    "\n",
    "    #期望的最好结果\n",
    "    target = probs.max() * 5000\n",
    "\n",
    "    #实际玩出的结果\n",
    "    result = sum([sum(i) for i in rewards]) - 10\n",
    "\n",
    "    return target, result\n",
    "\n",
    "\n",
    "get_result()"
   ]
  },
  {
   "cell_type": "code",
   "execution_count": null,
   "id": "d414fd37",
   "metadata": {},
   "outputs": [],
   "source": []
  }
 ],
 "metadata": {
  "kernelspec": {
   "display_name": "llama_factory",
   "language": "python",
   "name": "llama_factory"
  },
  "language_info": {
   "codemirror_mode": {
    "name": "ipython",
    "version": 3
   },
   "file_extension": ".py",
   "mimetype": "text/x-python",
   "name": "python",
   "nbconvert_exporter": "python",
   "pygments_lexer": "ipython3",
   "version": "3.10.14"
  }
 },
 "nbformat": 4,
 "nbformat_minor": 5
}
