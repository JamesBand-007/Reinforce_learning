{
 "cells": [
  {
   "cell_type": "code",
   "execution_count": 6,
   "id": "f484ffe3",
   "metadata": {},
   "outputs": [
    {
     "data": {
      "text/plain": [
       "(array([0.17105535, 0.62318649, 0.23041246, 0.74398898, 0.57471585,\n",
       "        0.66594918, 0.572156  , 0.14611697, 0.39278998, 0.96404523]),\n",
       " [[1], [1], [1], [1], [1], [1], [1], [1], [1], [1]])"
      ]
     },
     "execution_count": 6,
     "metadata": {},
     "output_type": "execute_result"
    }
   ],
   "source": [
    "import numpy as np\n",
    "\n",
    "#每个老虎机的中奖概率,0-1之间的均匀分布\n",
    "# probs = np.random.uniform(size=10)\n",
    "probs = np.array([0.17105535, 0.62318649, 0.23041246, 0.74398898, 0.57471585,\n",
    "        0.66594918, 0.572156  , 0.14611697, 0.39278998, 0.96404523])\n",
    "\n",
    "#记录每个老虎机的返回值\n",
    "rewards = [[1] for _ in range(10)]\n",
    "\n",
    "probs, rewards"
   ]
  },
  {
   "cell_type": "code",
   "execution_count": 7,
   "id": "368ed33f",
   "metadata": {},
   "outputs": [
    {
     "name": "stdout",
     "output_type": "stream",
     "text": [
      "当数字小的时候,beta分布的概率有很大的随机性\n",
      "0.7838342518081091\n",
      "0.33141771177580254\n",
      "0.6943216876049059\n",
      "0.13763700902782994\n",
      "0.20044602385009916\n",
      "当数字大时,beta分布逐渐稳定\n",
      "0.5024820891242562\n",
      "0.5004285163072957\n",
      "0.4995814997509513\n",
      "0.49953093984946967\n",
      "0.5002916705039581\n"
     ]
    }
   ],
   "source": [
    "#beta分布测试\n",
    "print('当数字小的时候,beta分布的概率有很大的随机性')\n",
    "for _ in range(5):\n",
    "    print(np.random.beta(1,1))\n",
    "print('当数字大时,beta分布逐渐稳定')  \n",
    "for _ in range(5):\n",
    "    print(np.random.beta(1e5, 1e5))\n"
   ]
  },
  {
   "cell_type": "code",
   "execution_count": 8,
   "id": "7d33d368",
   "metadata": {},
   "outputs": [],
   "source": [
    "import random\n",
    "\n",
    "\n",
    "def choose_one():\n",
    "    #求出每个老虎机出1的次数+1\n",
    "    count_1 = [sum(i) for i in rewards]\n",
    "\n",
    "    #求出每个老虎机出0的次数+1\n",
    "    count_0 = [len(i) - sum(i) + 2 for i in rewards]\n",
    "\n",
    "    #按照beta分布计算奖励分布,这可以认为是每一台老虎机中奖的概率\n",
    "    beta = np.random.beta(count_1, count_0)\n",
    "\n",
    "    return beta.argmax()"
   ]
  },
  {
   "cell_type": "code",
   "execution_count": 9,
   "id": "93b4d297",
   "metadata": {},
   "outputs": [],
   "source": [
    "def try_and_play():\n",
    "    i = choose_one()\n",
    "\n",
    "    #玩老虎机,得到结果\n",
    "    reward = 0\n",
    "    if random.random() < probs[i]:\n",
    "        reward = 1\n",
    "\n",
    "    #记录玩的结果\n",
    "    rewards[i].append(reward)\n",
    "\n"
   ]
  },
  {
   "cell_type": "code",
   "execution_count": 10,
   "id": "cf428743",
   "metadata": {},
   "outputs": [
    {
     "data": {
      "text/plain": [
       "(4820.2261499999995, 4799)"
      ]
     },
     "execution_count": 10,
     "metadata": {},
     "output_type": "execute_result"
    }
   ],
   "source": [
    "def get_result():\n",
    "    #玩N次\n",
    "    for _ in range(5000):\n",
    "        try_and_play()\n",
    "\n",
    "    #期望的最好结果\n",
    "    target = probs.max() * 5000\n",
    "\n",
    "    #实际玩出的结果\n",
    "    result = sum([sum(i) for i in rewards]) - 10\n",
    "\n",
    "    return target, result\n",
    "\n",
    "\n",
    "get_result()"
   ]
  },
  {
   "cell_type": "code",
   "execution_count": null,
   "id": "d414fd37",
   "metadata": {},
   "outputs": [],
   "source": []
  }
 ],
 "metadata": {
  "kernelspec": {
   "display_name": "llama_factory",
   "language": "python",
   "name": "llama_factory"
  },
  "language_info": {
   "codemirror_mode": {
    "name": "ipython",
    "version": 3
   },
   "file_extension": ".py",
   "mimetype": "text/x-python",
   "name": "python",
   "nbconvert_exporter": "python",
   "pygments_lexer": "ipython3",
   "version": "3.10.14"
  }
 },
 "nbformat": 4,
 "nbformat_minor": 5
}
